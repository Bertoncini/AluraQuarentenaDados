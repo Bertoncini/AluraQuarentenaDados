{
  "nbformat": 4,
  "nbformat_minor": 0,
  "metadata": {
    "colab": {
      "name": "01_Desafio_03.ipynb",
      "provenance": [],
      "include_colab_link": true
    },
    "kernelspec": {
      "name": "python3",
      "display_name": "Python 3"
    }
  },
  "cells": [
    {
      "cell_type": "markdown",
      "metadata": {
        "id": "view-in-github",
        "colab_type": "text"
      },
      "source": [
        "<a href=\"https://colab.research.google.com/github/Bertoncini/AluraQuarentenaDados/blob/master/01_Desafio_04.ipynb\" target=\"_parent\"><img src=\"https://colab.research.google.com/assets/colab-badge.svg\" alt=\"Open In Colab\"/></a>"
      ]
    },
    {
      "cell_type": "markdown",
      "metadata": {
        "colab_type": "text",
        "id": "__HJqldSQ30X"
      },
      "source": [
        "# Desafio 04\n",
        "Arredondar as médias (coluna de nota média) para duas casas decimais"
      ]
    },
    {
      "cell_type": "code",
      "metadata": {
        "colab_type": "code",
        "id": "VDaCvRETQ30a",
        "colab": {}
      },
      "source": [
        "import pandas as pd\n"
      ],
      "execution_count": 0,
      "outputs": []
    },
    {
      "cell_type": "markdown",
      "metadata": {
        "colab_type": "text",
        "id": "keWsHDmzQ30k"
      },
      "source": [
        "importando dados para realização da analise"
      ]
    },
    {
      "cell_type": "code",
      "metadata": {
        "colab_type": "code",
        "id": "XUpC8_U3Q30m",
        "colab": {}
      },
      "source": [
        "avaliacoes = pd.read_csv('https://raw.githubusercontent.com/Bertoncini/AluraQuarentenaDados/master/DataSet/MovieLens/ratings.csv')"
      ],
      "execution_count": 0,
      "outputs": []
    },
    {
      "cell_type": "markdown",
      "metadata": {
        "colab_type": "text",
        "id": "f0f14pR6Q30t"
      },
      "source": [
        "Renomeando nomes das colunas"
      ]
    },
    {
      "cell_type": "code",
      "metadata": {
        "colab_type": "code",
        "id": "7fG-wxVmQ30v",
        "colab": {}
      },
      "source": [
        "avaliacoes.columns = ['usuarioId','filmeId','nota','momento']"
      ],
      "execution_count": 0,
      "outputs": []
    },
    {
      "cell_type": "markdown",
      "metadata": {
        "colab_type": "text",
        "id": "9dTOUeIgQ30z"
      },
      "source": [
        "Gerando a avalição média, arredondando para 2 casas decimais\n"
      ]
    },
    {
      "cell_type": "code",
      "metadata": {
        "colab_type": "code",
        "id": "TpZdgl8OQ300",
        "colab": {
          "base_uri": "https://localhost:8080/",
          "height": 136
        },
        "outputId": "25ee1ef0-d6e8-473b-8f3e-74a6b22d7238"
      },
      "source": [
        "avalicao_media_filmes = avaliacoes.groupby('filmeId')['nota'].mean().round(2)\n",
        "avalicao_media_filmes.head()\n"
      ],
      "execution_count": 11,
      "outputs": [
        {
          "output_type": "execute_result",
          "data": {
            "text/plain": [
              "filmeId\n",
              "1    3.92\n",
              "2    3.43\n",
              "3    3.26\n",
              "4    2.36\n",
              "5    3.07\n",
              "Name: nota, dtype: float64"
            ]
          },
          "metadata": {
            "tags": []
          },
          "execution_count": 11
        }
      ]
    }
  ]
}