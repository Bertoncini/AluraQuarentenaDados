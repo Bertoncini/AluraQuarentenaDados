{
  "nbformat": 4,
  "nbformat_minor": 0,
  "metadata": {
    "colab": {
      "name": "01_Desafio_03.ipynb",
      "provenance": [],
      "include_colab_link": true
    },
    "kernelspec": {
      "name": "python3",
      "display_name": "Python 3"
    }
  },
  "cells": [
    {
      "cell_type": "markdown",
      "metadata": {
        "id": "view-in-github",
        "colab_type": "text"
      },
      "source": [
        "<a href=\"https://colab.research.google.com/github/Bertoncini/AluraQuarentenaDados/blob/master/01_Desafio_05.ipynb\" target=\"_parent\"><img src=\"https://colab.research.google.com/assets/colab-badge.svg\" alt=\"Open In Colab\"/></a>"
      ]
    },
    {
      "cell_type": "markdown",
      "metadata": {
        "colab_type": "text",
        "id": "__HJqldSQ30X"
      },
      "source": [
        "# Desafio 05\n",
        "Descobrir os generos dos filmes (quais são eles, único)"
      ]
    },
    {
      "cell_type": "code",
      "metadata": {
        "colab_type": "code",
        "id": "VDaCvRETQ30a",
        "colab": {}
      },
      "source": [
        "import pandas as pd"
      ],
      "execution_count": 0,
      "outputs": []
    },
    {
      "cell_type": "markdown",
      "metadata": {
        "colab_type": "text",
        "id": "keWsHDmzQ30k"
      },
      "source": [
        "importando dados para realização da analise"
      ]
    },
    {
      "cell_type": "code",
      "metadata": {
        "colab_type": "code",
        "id": "XUpC8_U3Q30m",
        "colab": {}
      },
      "source": [
        "filmes = pd.read_csv('https://raw.githubusercontent.com/Bertoncini/AluraQuarentenaDados/master/DataSet/MovieLens/movies.csv')"
      ],
      "execution_count": 0,
      "outputs": []
    },
    {
      "cell_type": "markdown",
      "metadata": {
        "colab_type": "text",
        "id": "f0f14pR6Q30t"
      },
      "source": [
        "Renomeando nomes das colunas"
      ]
    },
    {
      "cell_type": "code",
      "metadata": {
        "colab_type": "code",
        "id": "7fG-wxVmQ30v",
        "colab": {}
      },
      "source": [
        "filmes.columns = ['filmeId','titulo','genero']"
      ],
      "execution_count": 0,
      "outputs": []
    },
    {
      "cell_type": "markdown",
      "metadata": {
        "colab_type": "text",
        "id": "9dTOUeIgQ30z"
      },
      "source": [
        "Gerando uma lista dos generos do filmes\n"
      ]
    },
    {
      "cell_type": "code",
      "metadata": {
        "colab_type": "code",
        "id": "TpZdgl8OQ300",
        "colab": {}
      },
      "source": [
        "generos_filmes_desagrupado = filmes['genero'].str.split('|') "
      ],
      "execution_count": 0,
      "outputs": []
    },
    {
      "cell_type": "markdown",
      "metadata": {
        "id": "fTZ8x8mIPxlq",
        "colab_type": "text"
      },
      "source": [
        "Separando os generos, deixando eles único"
      ]
    },
    {
      "cell_type": "code",
      "metadata": {
        "id": "1WOiWZHpP4Rh",
        "colab_type": "code",
        "colab": {
          "base_uri": "https://localhost:8080/",
          "height": 54
        },
        "outputId": "40b068ff-0f7c-4383-99af-54a3044d5139"
      },
      "source": [
        "s = []\n",
        "for row in avalicao_media_filmes:\n",
        "    for elem in row:\n",
        "       s.append(elem)\n",
        "s = list(set(s))\n",
        "print(s)\n"
      ],
      "execution_count": 33,
      "outputs": [
        {
          "output_type": "stream",
          "text": [
            "['Film-Noir', 'Action', 'Drama', 'Thriller', 'War', 'Fantasy', 'Animation', 'Mystery', 'Children', 'Sci-Fi', 'Musical', '(no genres listed)', 'Romance', 'Documentary', 'Adventure', 'Western', 'Crime', 'IMAX', 'Horror', 'Comedy']\n"
          ],
          "name": "stdout"
        }
      ]
    },
    {
      "cell_type": "code",
      "metadata": {
        "id": "rnM2EUhpQADb",
        "colab_type": "code",
        "colab": {}
      },
      "source": [
        ""
      ],
      "execution_count": 0,
      "outputs": []
    }
  ]
}