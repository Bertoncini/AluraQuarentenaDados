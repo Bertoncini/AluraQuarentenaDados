{
  "nbformat": 4,
  "nbformat_minor": 0,
  "metadata": {
    "colab": {
      "name": "02_Desafio_05.ipynb",
      "provenance": [],
      "collapsed_sections": [],
      "authorship_tag": "ABX9TyMFdDZk+Ft9ph29NaJ2hH9t",
      "include_colab_link": true
    },
    "kernelspec": {
      "name": "python3",
      "display_name": "Python 3"
    }
  },
  "cells": [
    {
      "cell_type": "markdown",
      "metadata": {
        "id": "view-in-github",
        "colab_type": "text"
      },
      "source": [
        "<a href=\"https://colab.research.google.com/github/Bertoncini/AluraQuarentenaDados/blob/master/02_Desafio_05.ipynb\" target=\"_parent\"><img src=\"https://colab.research.google.com/assets/colab-badge.svg\" alt=\"Open In Colab\"/></a>"
      ]
    },
    {
      "cell_type": "markdown",
      "metadata": {
        "id": "g1byRTCFcbf5",
        "colab_type": "text"
      },
      "source": [
        "#Desafio 5\n",
        "\n",
        "Calcular moda, média e mediana dos filmes. Explore filmes com notas mais próximas de 0.5, 3 e 5."
      ]
    },
    {
      "cell_type": "code",
      "metadata": {
        "id": "BdImMJrKCzNS",
        "colab_type": "code",
        "colab": {}
      },
      "source": [
        "import pandas as pd\n",
        "filmes = pd.read_csv('https://raw.githubusercontent.com/Bertoncini/AluraQuarentenaDados/master/DataSet/MovieLens/movies.csv')\n",
        "avaliacoes = pd.read_csv('https://raw.githubusercontent.com/Bertoncini/AluraQuarentenaDados/master/DataSet/MovieLens/ratings.csv')"
      ],
      "execution_count": 0,
      "outputs": []
    },
    {
      "cell_type": "code",
      "metadata": {
        "id": "yvxpFuwWD6ex",
        "colab_type": "code",
        "colab": {}
      },
      "source": [
        "filmes.columns = ['filmeId','titulo','generos']\n",
        "avaliacoes.columns = ['usuarioId','filmeId','nota','momento']"
      ],
      "execution_count": 0,
      "outputs": []
    },
    {
      "cell_type": "code",
      "metadata": {
        "id": "RW4B8ehBFHAF",
        "colab_type": "code",
        "colab": {}
      },
      "source": [
        "avaliacoes_media_filme = avaliacoes.groupby('filmeId')['nota'].mean().round(2)"
      ],
      "execution_count": 0,
      "outputs": []
    },
    {
      "cell_type": "code",
      "metadata": {
        "id": "bmiA5WpaFviv",
        "colab_type": "code",
        "colab": {}
      },
      "source": [
        "filmes_media = filmes.join(avaliacoes_media_filme,\"filmeId\").rename(columns={'nota':'notaMedia'})"
      ],
      "execution_count": 0,
      "outputs": []
    },
    {
      "cell_type": "code",
      "metadata": {
        "id": "lgvD3GUhI7Pb",
        "colab_type": "code",
        "colab": {}
      },
      "source": [
        "total_avaliacao_filme = avaliacoes.groupby('filmeId')['nota'].count()"
      ],
      "execution_count": 0,
      "outputs": []
    },
    {
      "cell_type": "code",
      "metadata": {
        "id": "6tonHaybJWNK",
        "colab_type": "code",
        "colab": {}
      },
      "source": [
        "filmes_media_total = filmes_media.join(total_avaliacao_filme,'filmeId').rename(columns={'nota':'qtdNota'})"
      ],
      "execution_count": 0,
      "outputs": []
    },
    {
      "cell_type": "code",
      "metadata": {
        "id": "GTe8FyL8UARI",
        "colab_type": "code",
        "colab": {}
      },
      "source": [
        "generos = filmes_media_total['generos'].str.get_dummies('|').sum().sort_values(ascending=False)"
      ],
      "execution_count": 0,
      "outputs": []
    },
    {
      "cell_type": "code",
      "metadata": {
        "id": "KfNHXxTfrsP3",
        "colab_type": "code",
        "colab": {}
      },
      "source": [
        "def explorar_filme(filme_id):\n",
        "  filme = filmes.query(f'filmeId == {filme_id}')\n",
        "  notas = avaliacoes.query(f'filmeId == {filme_id}')['nota']\n",
        "\n",
        "  print('******************************')\n",
        "  print(f'Filme: {filme.iloc[0,1]}')\n",
        "  print()\n",
        "\n",
        "  print(f'Moda: {notas.mode().values}')    \n",
        "  print(f'Média: {notas.mean()}')\n",
        "  print(f'Mediana: {notas.median()}')"
      ],
      "execution_count": 0,
      "outputs": []
    },
    {
      "cell_type": "code",
      "metadata": {
        "id": "3rwTP5dXZBST",
        "colab_type": "code",
        "colab": {
          "base_uri": "https://localhost:8080/",
          "height": 323
        },
        "outputId": "828bf1e9-6058-4450-e732-8b415f7dcd36"
      },
      "source": [
        "#filmes_media_total.query('notaMedia >= 0.5 & notaMedia < 1').sort_values('notaMedia',ascending=True)\n",
        "explorar_filme(109897)\n",
        "explorar_filme(8387)\n",
        "explorar_filme(6483)"
      ],
      "execution_count": 226,
      "outputs": [
        {
          "output_type": "stream",
          "text": [
            "******************************\n",
            "Filme: Son of God (2014)\n",
            "\n",
            "Moda: [0.5]\n",
            "Média: 0.5\n",
            "Mediana: 0.5\n",
            "******************************\n",
            "Filme: Police Academy: Mission to Moscow (1994)\n",
            "\n",
            "Moda: [0.5]\n",
            "Média: 0.8\n",
            "Mediana: 0.5\n",
            "******************************\n",
            "Filme: From Justin to Kelly (2003)\n",
            "\n",
            "Moda: [0.5]\n",
            "Média: 0.8333333333333334\n",
            "Mediana: 0.5\n"
          ],
          "name": "stdout"
        }
      ]
    },
    {
      "cell_type": "code",
      "metadata": {
        "id": "ng8AhPpmo3yh",
        "colab_type": "code",
        "outputId": "138fdd0f-4717-49fd-d6f6-c55bea84a8c8",
        "colab": {
          "base_uri": "https://localhost:8080/",
          "height": 323
        }
      },
      "source": [
        "#filmes_media_total.query('notaMedia >= 3.8 & notaMedia < 4').sort_values('notaMedia',ascending=True)\n",
        "explorar_filme(44974)\n",
        "explorar_filme(2529)\n",
        "explorar_filme(1278)"
      ],
      "execution_count": 227,
      "outputs": [
        {
          "output_type": "stream",
          "text": [
            "******************************\n",
            "Filme: Hard Candy (2005)\n",
            "\n",
            "Moda: [4.5]\n",
            "Média: 3.5\n",
            "Mediana: 3.75\n",
            "******************************\n",
            "Filme: Planet of the Apes (1968)\n",
            "\n",
            "Moda: [4.]\n",
            "Média: 3.8035714285714284\n",
            "Mediana: 4.0\n",
            "******************************\n",
            "Filme: Young Frankenstein (1974)\n",
            "\n",
            "Moda: [4.]\n",
            "Média: 3.9927536231884058\n",
            "Mediana: 4.0\n"
          ],
          "name": "stdout"
        }
      ]
    },
    {
      "cell_type": "code",
      "metadata": {
        "id": "35SrIj2Qcyup",
        "colab_type": "code",
        "colab": {
          "base_uri": "https://localhost:8080/",
          "height": 323
        },
        "outputId": "611ea389-ab3a-4b40-fe04-84be60e2aef1"
      },
      "source": [
        "#filmes_media_total.query('notaMedia >= 4.7').sort_values('notaMedia',ascending=True)\n",
        "explorar_filme(74282)\n",
        "explorar_filme(31364)\n",
        "explorar_filme(27373)"
      ],
      "execution_count": 228,
      "outputs": [
        {
          "output_type": "stream",
          "text": [
            "******************************\n",
            "Filme: Anne of Green Gables: The Sequel (a.k.a. Anne of Avonlea) (1987)\n",
            "\n",
            "Moda: [4.5 5. ]\n",
            "Média: 4.75\n",
            "Mediana: 4.75\n",
            "******************************\n",
            "Filme: Memories of Murder (Salinui chueok) (2003)\n",
            "\n",
            "Moda: [5.]\n",
            "Média: 4.7\n",
            "Mediana: 5.0\n",
            "******************************\n",
            "Filme: 61* (2001)\n",
            "\n",
            "Moda: [5.]\n",
            "Média: 5.0\n",
            "Mediana: 5.0\n"
          ],
          "name": "stdout"
        }
      ]
    }
  ]
}